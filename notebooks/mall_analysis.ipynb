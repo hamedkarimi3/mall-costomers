{
 "cells": [
  {
   "cell_type": "code",
   "execution_count": null,
   "metadata": {
    "vscode": {
     "languageId": "plaintext"
    }
   },
   "outputs": [],
   "source": [
    "from pyspark.sql import SparkSession\n",
    "\n",
    "# Step 1: Start Spark session\n",
    "spark = SparkSession.builder.appName(\"MallCustomersAnalysis\").getOrCreate()\n",
    "\n",
    "# Step 2: Load the CSV file\n",
    "file_path = \"Mall_Customers.csv\"  # Make sure the CSV is in your project directory\n",
    "df = spark.read.csv(file_path, header=True, inferSchema=True)\n",
    "\n",
    "# Step 3: Print schema to understand the structure\n",
    "df.printSchema()\n",
    "\n",
    "# Step 4: Show first few rows\n",
    "df.show(5)\n"
   ]
  }
 ],
 "metadata": {
  "language_info": {
   "name": "python"
  }
 },
 "nbformat": 4,
 "nbformat_minor": 2
}
