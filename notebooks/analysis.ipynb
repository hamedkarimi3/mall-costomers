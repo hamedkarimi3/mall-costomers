{
 "cells": [
  {
   "cell_type": "code",
   "execution_count": null,
   "metadata": {},
   "outputs": [],
   "source": [
    "# 🛠️ Step 1: Set up Spark Session\n",
    "from pyspark.sql import SparkSession\n",
    "spark = SparkSession.builder.appName(\"MallCustomersAnalysis\").getOrCreate()\n"
   ]
  },
  {
   "cell_type": "code",
   "execution_count": null,
   "metadata": {},
   "outputs": [],
   "source": [
    "# 📥 Step 2: Load Dataset\n",
    "df = spark.read.csv(\"data/Mall_Customers.csv\", header=True, inferSchema=True)\n",
    "df.printSchema()\n",
    "df.show(5)\n"
   ]
  },
  {
   "cell_type": "code",
   "execution_count": null,
   "metadata": {},
   "outputs": [],
   "source": [
    "# 📊 Step 3: Spending Score Distribution\n",
    "df.groupBy(\"Spending Score (1-100)\") \\\n",
    "  .count() \\\n",
    "  .orderBy(\"Spending Score (1-100)\") \\\n",
    "  .show(20)\n"
   ]
  },
  {
   "cell_type": "code",
   "execution_count": null,
   "metadata": {},
   "outputs": [],
   "source": [
    "# 📈 Step 4: Average Income by Spending Score\n",
    "from pyspark.sql.functions import avg, count\n",
    "\n",
    "df.groupBy(\"Spending Score (1-100)\") \\\n",
    "  .agg(avg(\"Annual Income (k$)\").alias(\"Avg Income\"), count(\"*\").alias(\"Count\")) \\\n",
    "  .orderBy(\"Spending Score (1-100)\") \\\n",
    "  .show(20)\n"
   ]
  },
  {
   "cell_type": "markdown",
   "metadata": {},
   "source": [
    "## 🧠 Insights Summary\n",
    "\n",
    "- Most customers fall into the middle range of spending scores.\n",
    "- Income doesn't correlate directly with spending — some high spenders have moderate income.\n",
    "- Segment opportunities:\n",
    "  - **High Score + Low Income**: Loyal, budget-conscious\n",
    "  - **High Score + High Income**: Premium target segment\n"
   ]
  }
 ],
 "metadata": {
  "kernelspec": {
   "display_name": "Python 3",
   "language": "python",
   "name": "python3"
  },
  "language_info": {
   "codemirror_mode": {
    "name": "ipython",
    "version": 3
   },
   "file_extension": ".py",
   "mimetype": "text/x-python",
   "name": "python",
   "nbconvert_exporter": "python",
   "pygments_lexer": "ipython3",
   "version": "3.11.0rc2"
  }
 },
 "nbformat": 4,
 "nbformat_minor": 2
}
