{
 "cells": [
  {
   "cell_type": "code",
   "execution_count": 3,
   "metadata": {},
   "outputs": [
    {
     "name": "stdout",
     "output_type": "stream",
     "text": [
      "Python 3.11.8\n"
     ]
    }
   ],
   "source": [
    "!python --version\n"
   ]
  },
  {
   "cell_type": "code",
   "execution_count": 4,
   "metadata": {},
   "outputs": [
    {
     "name": "stdout",
     "output_type": "stream",
     "text": [
      "Requirement already satisfied: pyspark in /mnt/c/Users/hmdkr/DE-Projects/mall-customers/venv/lib/python3.11/site-packages (3.5.5)\n",
      "Requirement already satisfied: py4j==0.10.9.7 in /mnt/c/Users/hmdkr/DE-Projects/mall-customers/venv/lib/python3.11/site-packages (from pyspark) (0.10.9.7)\n",
      "Note: you may need to restart the kernel to use updated packages.\n"
     ]
    },
    {
     "name": "stderr",
     "output_type": "stream",
     "text": [
      "your 131072x1 screen size is bogus. expect trouble\n",
      "25/04/29 15:34:26 WARN Utils: Your hostname, HKCP resolves to a loopback address: 127.0.1.1; using 10.255.255.254 instead (on interface lo)\n",
      "25/04/29 15:34:26 WARN Utils: Set SPARK_LOCAL_IP if you need to bind to another address\n",
      "Setting default log level to \"WARN\".\n",
      "To adjust logging level use sc.setLogLevel(newLevel). For SparkR, use setLogLevel(newLevel).\n",
      "25/04/29 15:34:27 WARN NativeCodeLoader: Unable to load native-hadoop library for your platform... using builtin-java classes where applicable\n"
     ]
    },
    {
     "name": "stdout",
     "output_type": "stream",
     "text": [
      "✅ Spark Session Created\n",
      "Spark Version: 3.5.5\n"
     ]
    }
   ],
   "source": [
    "# 🛠️ Step 1: Set up Spark Session\n",
    "# Install pyspark if not already installed\n",
    "%pip install pyspark\n",
    "\n",
    "from pyspark.sql import SparkSession\n",
    "spark = SparkSession.builder.appName(\"MallCustomersAnalysis\").getOrCreate()\n",
    "\n",
    "print(\"✅ Spark Session Created\")\n",
    "print(f\"Spark Version: {spark.version}\")"
   ]
  },
  {
   "cell_type": "code",
   "execution_count": null,
   "metadata": {},
   "outputs": [
    {
     "name": "stdout",
     "output_type": "stream",
     "text": [
      "✅ Dataset Loaded\n",
      "Number of Rows: 200\n",
      "Number of Columns: 5\n",
      "Columns: ['CustomerID', 'Genre', 'Age', 'Annual Income (k$)', 'Spending Score (1-100)']\n",
      "Sample Data:\n",
      "+----------+------+---+------------------+----------------------+\n",
      "|CustomerID| Genre|Age|Annual Income (k$)|Spending Score (1-100)|\n",
      "+----------+------+---+------------------+----------------------+\n",
      "|         1|  Male| 19|                15|                    39|\n",
      "|         2|  Male| 21|                15|                    81|\n",
      "|         3|Female| 20|                16|                     6|\n",
      "|         4|Female| 23|                16|                    77|\n",
      "|         5|Female| 31|                17|                    40|\n",
      "+----------+------+---+------------------+----------------------+\n",
      "only showing top 5 rows\n",
      "\n",
      "✅ Missing Values Checked\n",
      "+----------+-----+---+------------------+----------------------+\n",
      "|CustomerID|Genre|Age|Annual Income (k$)|Spending Score (1-100)|\n",
      "+----------+-----+---+------------------+----------------------+\n",
      "|         0|    0|  0|                 0|                     0|\n",
      "+----------+-----+---+------------------+----------------------+\n",
      "\n",
      "✅ Cleaned Data Loaded\n",
      "+----------+------+---+------------------+----------------------+\n",
      "|CustomerID| Genre|Age|Annual Income (k$)|Spending Score (1-100)|\n",
      "+----------+------+---+------------------+----------------------+\n",
      "|         1|  Male| 19|                15|                    39|\n",
      "|         2|  Male| 21|                15|                    81|\n",
      "|         3|Female| 20|                16|                     6|\n",
      "|         4|Female| 23|                16|                    77|\n",
      "|         5|Female| 31|                17|                    40|\n",
      "+----------+------+---+------------------+----------------------+\n",
      "only showing top 5 rows\n",
      "\n"
     ]
    }
   ],
   "source": [
    "# 🛠️ Step 2: Load the Dataset\n",
    "# Load the dataset into a DataFrame\n",
    "df = spark.read.csv(\"/mnt/c/Users/hmdkr/DE-Projects/mall-customers/data/Mall_Customers.csv\", header=True, inferSchema=True)\n",
    "print(\"✅ Dataset Loaded\")\n",
    "print(f\"Number of Rows: {df.count()}\")\n",
    "print(f\"Number of Columns: {len(df.columns)}\")\n",
    "print(f\"Columns: {df.columns}\")\n",
    "print(\"Sample Data:\")\n",
    "df.show(5)\n",
    "# 🛠️ Step 3: Data Preprocessing\n",
    "# Check for missing values\n",
    "from pyspark.sql.functions import col, sum\n",
    "\n",
    "# Check for missing values\n",
    "missing_values = df.select([sum(col(c).isNull().cast(\"int\")).alias(c) for c in df.columns])\n",
    "print(\"✅ Missing Values Checked\")\n",
    "missing_values.show()\n",
    "# Drop unnecessary columns\n",
    "# df = df.drop(\"CustomerID\")\n",
    "# print(\"✅ Unnecessary Columns Dropped\")\n",
    "# 🛠️ Step 4: Data Exploration \n",
    "# Show the schema of the DataFrame\n",
    "#df.printSchema()\n",
    "# Show the first few rows of the DataFrame\n",
    "#df.show(5)\n",
    "# Show summary statistics\n",
    "#df.describe().show()\n",
    "# save cleaned data\n",
    "#df.write.csv(\"/mnt/c/Users/hmdkr/DE-Projects/mall-customers/data/cleaned_mall_customers.csv\", header=True, mode=\"overwrite\")\n",
    "#print(\"✅ Cleaned Data Saved\")\n",
    "# show the cleaned data\n",
    "cleaned_df = spark.read.csv(\"/mnt/c/Users/hmdkr/DE-Projects/mall-customers/data/cleaned_mall_customers.csv\", header=True, inferSchema=True)\n",
    "print(\"✅ Cleaned Data Loaded\")\n",
    "cleaned_df.show(5)\n"
   ]
  },
  {
   "cell_type": "code",
   "execution_count": 5,
   "metadata": {},
   "outputs": [
    {
     "name": "stdout",
     "output_type": "stream",
     "text": [
      "+----------+------+---+------------------+----------------------+\n",
      "|CustomerID| Genre|Age|Annual Income (k$)|Spending Score (1-100)|\n",
      "+----------+------+---+------------------+----------------------+\n",
      "|         1|  Male| 19|                15|                    39|\n",
      "|         2|  Male| 21|                15|                    81|\n",
      "|         3|Female| 20|                16|                     6|\n",
      "|         4|Female| 23|                16|                    77|\n",
      "|         5|Female| 31|                17|                    40|\n",
      "+----------+------+---+------------------+----------------------+\n",
      "only showing top 5 rows\n",
      "\n",
      "root\n",
      " |-- CustomerID: integer (nullable = true)\n",
      " |-- Genre: string (nullable = true)\n",
      " |-- Age: integer (nullable = true)\n",
      " |-- Annual Income (k$): integer (nullable = true)\n",
      " |-- Spending Score (1-100): integer (nullable = true)\n",
      "\n"
     ]
    }
   ],
   "source": [
    "# Update the file path to the correct location of the dataset\n",
    "df = spark.read.csv(\"/mnt/c/Users/hmdkr/DE-Projects/mall-customers/data/Mall_Customers.csv\", header=True, inferSchema=True)\n",
    "df.show(5)\n",
    "df.printSchema()"
   ]
  },
  {
   "cell_type": "code",
   "execution_count": 6,
   "metadata": {},
   "outputs": [
    {
     "name": "stdout",
     "output_type": "stream",
     "text": [
      "✅ Summary Statistics:\n"
     ]
    },
    {
     "name": "stderr",
     "output_type": "stream",
     "text": [
      "25/04/29 15:34:51 WARN SparkStringUtils: Truncated the string representation of a plan since it was too large. This behavior can be adjusted by setting 'spark.sql.debug.maxToStringFields'.\n"
     ]
    },
    {
     "name": "stdout",
     "output_type": "stream",
     "text": [
      "+-------+------------------+------+-----------------+------------------+----------------------+\n",
      "|summary|        CustomerID| Genre|              Age|Annual Income (k$)|Spending Score (1-100)|\n",
      "+-------+------------------+------+-----------------+------------------+----------------------+\n",
      "|  count|               200|   200|              200|               200|                   200|\n",
      "|   mean|             100.5|  NULL|            38.85|             60.56|                  50.2|\n",
      "| stddev|57.879184513951124|  NULL|13.96900733155888| 26.26472116527124|    25.823521668370173|\n",
      "|    min|                 1|Female|               18|                15|                     1|\n",
      "|    max|               200|  Male|               70|               137|                    99|\n",
      "+-------+------------------+------+-----------------+------------------+----------------------+\n",
      "\n"
     ]
    }
   ],
   "source": [
    "# 🛠️ 3. Basic EDA\n",
    "print(\"✅ Summary Statistics:\")\n",
    "df.describe().show()"
   ]
  },
  {
   "cell_type": "code",
   "execution_count": null,
   "metadata": {},
   "outputs": [
    {
     "name": "stdout",
     "output_type": "stream",
     "text": [
      "✅ Average Annual Income and Spending Score by Gender:\n",
      "+------+-----------------------+---------------------------+\n",
      "| Genre|avg(Annual Income (k$))|avg(Spending Score (1-100))|\n",
      "+------+-----------------------+---------------------------+\n",
      "|Female|                  59.25|         51.526785714285715|\n",
      "|  Male|      62.22727272727273|          48.51136363636363|\n",
      "+------+-----------------------+---------------------------+\n",
      "\n"
     ]
    }
   ],
   "source": [
    "# 🛠️ 4. Group by Genre and calculate averages\n",
    "print(\"✅ Average Annual Income and Spending Score by Gender:\")\n",
    "df.groupBy(\"Genre\") \\\n",
    "    .avg(\"Annual Income (k$)\", \"Spending Score (1-100)\") \\\n",
    "    .show()"
   ]
  },
  {
   "cell_type": "code",
   "execution_count": 8,
   "metadata": {},
   "outputs": [
    {
     "name": "stdout",
     "output_type": "stream",
     "text": [
      "+----------------------+-----+\n",
      "|Spending Score (1-100)|count|\n",
      "+----------------------+-----+\n",
      "|                     1|    2|\n",
      "|                     3|    1|\n",
      "|                     4|    2|\n",
      "|                     5|    4|\n",
      "|                     6|    2|\n",
      "|                     7|    1|\n",
      "|                     8|    1|\n",
      "|                     9|    1|\n",
      "|                    10|    2|\n",
      "|                    11|    1|\n",
      "|                    12|    1|\n",
      "|                    13|    3|\n",
      "|                    14|    4|\n",
      "|                    15|    3|\n",
      "|                    16|    2|\n",
      "|                    17|    3|\n",
      "|                    18|    1|\n",
      "|                    20|    2|\n",
      "|                    22|    1|\n",
      "|                    23|    1|\n",
      "+----------------------+-----+\n",
      "only showing top 20 rows\n",
      "\n"
     ]
    }
   ],
   "source": [
    "# 📊 Step 3: Spending Score Distribution\n",
    "df.groupBy(\"Spending Score (1-100)\") \\\n",
    "  .count() \\\n",
    "  .orderBy(\"Spending Score (1-100)\") \\\n",
    "  .show(20)\n"
   ]
  },
  {
   "cell_type": "code",
   "execution_count": 9,
   "metadata": {},
   "outputs": [
    {
     "name": "stdout",
     "output_type": "stream",
     "text": [
      "+------+---------------------------+\n",
      "| Genre|avg(Spending Score (1-100))|\n",
      "+------+---------------------------+\n",
      "|Female|         51.526785714285715|\n",
      "|  Male|          48.51136363636363|\n",
      "+------+---------------------------+\n",
      "\n"
     ]
    }
   ],
   "source": [
    "# Average Spending Score by Gender \n",
    "# Ensure CELL INDEX 3 is executed to define the 'df' variable before running this cell.\n",
    "df.groupBy(\"Genre\") \\\n",
    "  .agg({\"Spending Score (1-100)\": \"avg\"}) \\\n",
    "  .show()\n"
   ]
  },
  {
   "cell_type": "code",
   "execution_count": 23,
   "metadata": {},
   "outputs": [
    {
     "name": "stdout",
     "output_type": "stream",
     "text": [
      "+---------+------------------+-----+\n",
      "|Age_Group|Avg Spending Score|Count|\n",
      "+---------+------------------+-----+\n",
      "|      20s| 61.95348837209303|   43|\n",
      "|      30s| 61.09836065573771|   61|\n",
      "|      40s| 34.94871794871795|   39|\n",
      "|      50+|              38.4|   45|\n",
      "|Teenagers|              46.5|   12|\n",
      "+---------+------------------+-----+\n",
      "\n"
     ]
    }
   ],
   "source": [
    "# 📈 Step 4: Average Income by Spending Score\n",
    "from pyspark.sql.functions import avg, count, when\n",
    "df = df.withColumn(\n",
    "    \"Age_Group\",\n",
    "    when(df.Age < 20, \"Teenagers\")\n",
    "    .when((df.Age >= 20) & (df.Age < 30), \"20s\")\n",
    "    .when((df.Age >= 30) & (df.Age < 40), \"30s\")\n",
    "    .when((df.Age >= 40) & (df.Age < 50), \"40s\")\n",
    "    .otherwise(\"50+\")  \n",
    ")\n",
    "df.groupBy(\"Age_Group\") \\\n",
    "  .agg(avg(\"Spending Score (1-100)\").alias(\"Avg Spending Score\"), count(\"*\").alias(\"Count\")) \\\n",
    "  .orderBy(\"Age_Group\") \\\n",
    "  .show()"
   ]
  },
  {
   "cell_type": "code",
   "execution_count": 29,
   "metadata": {},
   "outputs": [
    {
     "name": "stdout",
     "output_type": "stream",
     "text": [
      "+----------+------+---+------------------+----------------------+---------+\n",
      "|CustomerID| Genre|Age|Annual Income (k$)|Spending Score (1-100)|Age_Group|\n",
      "+----------+------+---+------------------+----------------------+---------+\n",
      "|        12|Female| 35|                19|                    99|      30s|\n",
      "|        20|Female| 35|                23|                    98|      30s|\n",
      "|       146|  Male| 28|                77|                    97|      20s|\n",
      "|       186|  Male| 30|                99|                    97|      30s|\n",
      "|       128|  Male| 40|                71|                    95|      40s|\n",
      "+----------+------+---+------------------+----------------------+---------+\n",
      "only showing top 5 rows\n",
      "\n"
     ]
    }
   ],
   "source": [
    "# Top 5 High-Spending Customers \n",
    "df.orderBy(df[\"Spending Score (1-100)\"].desc()).show(5)\n"
   ]
  },
  {
   "cell_type": "code",
   "execution_count": 26,
   "metadata": {},
   "outputs": [
    {
     "name": "stdout",
     "output_type": "stream",
     "text": [
      "+----------+-----+---+------------------+----------------------+---------+\n",
      "|CustomerID|Genre|Age|Annual Income (k$)|Spending Score (1-100)|Age_Group|\n",
      "+----------+-----+---+------------------+----------------------+---------+\n",
      "|       157| Male| 37|                78|                     1|      30s|\n",
      "|       159| Male| 34|                78|                     1|      30s|\n",
      "|         9| Male| 64|                19|                     3|      50+|\n",
      "|        31| Male| 60|                30|                     4|      50+|\n",
      "|        33| Male| 53|                33|                     4|      50+|\n",
      "+----------+-----+---+------------------+----------------------+---------+\n",
      "only showing top 5 rows\n",
      "\n"
     ]
    }
   ],
   "source": [
    "# Top 5 Low-Spending Customers\n",
    "df.orderBy(df[\"Spending Score (1-100)\"].asc()).show(5)"
   ]
  },
  {
   "cell_type": "code",
   "execution_count": 27,
   "metadata": {},
   "outputs": [
    {
     "name": "stdout",
     "output_type": "stream",
     "text": [
      "+----------+------+---+------------------+----------------------+---------+\n",
      "|CustomerID| Genre|Age|Annual Income (k$)|Spending Score (1-100)|Age_Group|\n",
      "+----------+------+---+------------------+----------------------+---------+\n",
      "|       199|  Male| 32|               137|                    18|      30s|\n",
      "|       200|  Male| 30|               137|                    83|      30s|\n",
      "|       197|Female| 45|               126|                    28|      40s|\n",
      "|       198|  Male| 32|               126|                    74|      30s|\n",
      "|       196|Female| 35|               120|                    79|      30s|\n",
      "+----------+------+---+------------------+----------------------+---------+\n",
      "only showing top 5 rows\n",
      "\n"
     ]
    }
   ],
   "source": [
    "# Top 5 High-Income Customers\n",
    "df.orderBy(df[\"Annual Income (k$)\"].desc()).show(5)"
   ]
  },
  {
   "cell_type": "code",
   "execution_count": 28,
   "metadata": {},
   "outputs": [
    {
     "name": "stdout",
     "output_type": "stream",
     "text": [
      "+----------+------+---+------------------+----------------------+---------+\n",
      "|CustomerID| Genre|Age|Annual Income (k$)|Spending Score (1-100)|Age_Group|\n",
      "+----------+------+---+------------------+----------------------+---------+\n",
      "|         1|  Male| 19|                15|                    39|Teenagers|\n",
      "|         2|  Male| 21|                15|                    81|      20s|\n",
      "|         3|Female| 20|                16|                     6|      20s|\n",
      "|         4|Female| 23|                16|                    77|      20s|\n",
      "|         5|Female| 31|                17|                    40|      30s|\n",
      "+----------+------+---+------------------+----------------------+---------+\n",
      "only showing top 5 rows\n",
      "\n"
     ]
    }
   ],
   "source": [
    "# Top 5 Low-Income Customers\n",
    "df.orderBy(df[\"Annual Income (k$)\"].asc()).show(5)"
   ]
  },
  {
   "cell_type": "code",
   "execution_count": 37,
   "metadata": {},
   "outputs": [
    {
     "name": "stdout",
     "output_type": "stream",
     "text": [
      "+-----------------+-----------------+-----+\n",
      "|Spending_Category|Avg Annual Income|Count|\n",
      "+-----------------+-----------------+-----+\n",
      "|             High|             56.5|   72|\n",
      "|              Low|65.17647058823529|   34|\n",
      "|           Medium|          58.6875|   64|\n",
      "|        Very High|69.06666666666666|   30|\n",
      "+-----------------+-----------------+-----+\n",
      "\n"
     ]
    }
   ],
   "source": [
    "# Spending Score Categories \n",
    "df = df.withColumn(\n",
    "    \"Spending_Category\",\n",
    "    when(df[\"Spending Score (1-100)\"] < 20, \"Low\")\n",
    "    .when((df[\"Spending Score (1-100)\"] >= 20) & (df[\"Spending Score (1-100)\"] < 50), \"Medium\")\n",
    "    .when((df[\"Spending Score (1-100)\"] >= 50) & (df[\"Spending Score (1-100)\"] < 80), \"High\")\n",
    "    .otherwise(\"Very High\")  \n",
    ")\n",
    "df.groupBy(\"Spending_Category\") \\\n",
    "  .agg(avg(\"Annual Income (k$)\").alias(\"Avg Annual Income\"), count(\"*\").alias(\"Count\")) \\\n",
    "  .orderBy(\"Spending_Category\") \\\n",
    "  .show()\n",
    "# Step 5: Save the DataFrame as a CSV file\n",
    "# output_path = \"/mnt/c/Users/hmdkr/DE-Projects/mall-customers/data/mall_customers_analysis.csv\"\n",
    "# df.write.csv(output_path, header=True, mode=\"overwrite\")*/\n",
    "# print(f\"✅ DataFrame saved to {output_path}\")\n",
    "# Stop the Spark session\n",
    "# spark.stop()\n",
    "# print(\"✅ Spark Session Stopped\")\n",
    "\n"
   ]
  },
  {
   "cell_type": "code",
   "execution_count": 34,
   "metadata": {},
   "outputs": [
    {
     "name": "stdout",
     "output_type": "stream",
     "text": [
      "+----------------------+-----------------+-----+\n",
      "|Spending Score (1-100)|       Avg Income|Count|\n",
      "+----------------------+-----------------+-----+\n",
      "|                     1|             78.0|    2|\n",
      "|                     3|             19.0|    1|\n",
      "|                     4|             31.5|    2|\n",
      "|                     5|             63.5|    4|\n",
      "|                     6|             17.0|    2|\n",
      "|                     7|             73.0|    1|\n",
      "|                     8|            113.0|    1|\n",
      "|                     9|             71.0|    1|\n",
      "|                    10|             80.5|    2|\n",
      "|                    11|             71.0|    1|\n",
      "|                    12|             77.0|    1|\n",
      "|                    13|             65.0|    3|\n",
      "|                    14|            43.25|    4|\n",
      "|                    15|68.66666666666667|    3|\n",
      "|                    16|             99.0|    2|\n",
      "|                    17|71.66666666666667|    3|\n",
      "|                    18|            137.0|    1|\n",
      "|                    20|             82.0|    2|\n",
      "|                    22|             78.0|    1|\n",
      "|                    23|            103.0|    1|\n",
      "+----------------------+-----------------+-----+\n",
      "only showing top 20 rows\n",
      "\n"
     ]
    }
   ],
   "source": [
    "\n",
    "\n",
    "# 📊 Step 5: Average Income by Spending Score\n",
    "df.groupBy(\"Spending Score (1-100)\") \\\n",
    "  .agg(avg(\"Annual Income (k$)\").alias(\"Avg Income\"), count(\"*\").alias(\"Count\")) \\\n",
    "  .orderBy(\"Spending Score (1-100)\") \\\n",
    "  .show(20)\n"
   ]
  },
  {
   "cell_type": "code",
   "execution_count": 35,
   "metadata": {},
   "outputs": [
    {
     "name": "stdout",
     "output_type": "stream",
     "text": [
      "+-----------------+------+-----+\n",
      "|Spending_Category| Genre|Count|\n",
      "+-----------------+------+-----+\n",
      "|             High|Female|   42|\n",
      "|             High|  Male|   30|\n",
      "|              Low|Female|   13|\n",
      "|              Low|  Male|   21|\n",
      "|           Medium|Female|   41|\n",
      "|           Medium|  Male|   23|\n",
      "|        Very High|Female|   16|\n",
      "|        Very High|  Male|   14|\n",
      "+-----------------+------+-----+\n",
      "\n"
     ]
    }
   ],
   "source": [
    "# Gender Distribution in Spending Categories\n",
    "df.groupBy(\"Spending_Category\", \"Genre\") \\\n",
    "  .agg(count(\"*\").alias(\"Count\")) \\\n",
    "  .orderBy(\"Spending_Category\", \"Genre\") \\\n",
    "  .show()"
   ]
  },
  {
   "cell_type": "code",
   "execution_count": null,
   "metadata": {},
   "outputs": [
    {
     "name": "stdout",
     "output_type": "stream",
     "text": [
      "+-----------------+-----------------+-----+\n",
      "|Spending_Category|Avg Annual Income|Count|\n",
      "+-----------------+-----------------+-----+\n",
      "|             High|             56.5|   72|\n",
      "|              Low|65.17647058823529|   34|\n",
      "|           Medium|          58.6875|   64|\n",
      "|        Very High|69.06666666666666|   30|\n",
      "+-----------------+-----------------+-----+\n",
      "\n"
     ]
    }
   ],
   "source": [
    "# Annual Income by Spending Category\n",
    "df.groupBy(\"Spending_Category\") \\\n",
    "  .agg(avg(\"Annual Income (k$)\").alias(\"Avg Annual Income\"), count(\"*\").alias(\"Count\")) \\\n",
    "  .orderBy(\"Spending_Category\") \\\n",
    "  .show()\n",
    "\n",
    "\n"
   ]
  },
  {
   "cell_type": "code",
   "execution_count": 43,
   "metadata": {},
   "outputs": [
    {
     "name": "stdout",
     "output_type": "stream",
     "text": [
      "+-----------------+---------+-----+\n",
      "|Spending_Category|Age_Group|Count|\n",
      "+-----------------+---------+-----+\n",
      "|             High|      20s|   21|\n",
      "|             High|      30s|   24|\n",
      "|             High|      40s|    6|\n",
      "|             High|      50+|   16|\n",
      "|             High|Teenagers|    5|\n",
      "|              Low|      20s|    3|\n",
      "|              Low|      30s|    7|\n",
      "|              Low|      40s|   11|\n",
      "|              Low|      50+|   11|\n",
      "|              Low|Teenagers|    2|\n",
      "|           Medium|      20s|    8|\n",
      "|           Medium|      30s|   13|\n",
      "|           Medium|      40s|   21|\n",
      "|           Medium|      50+|   18|\n",
      "|           Medium|Teenagers|    4|\n",
      "|        Very High|      20s|   11|\n",
      "|        Very High|      30s|   17|\n",
      "|        Very High|      40s|    1|\n",
      "|        Very High|Teenagers|    1|\n",
      "+-----------------+---------+-----+\n",
      "\n"
     ]
    }
   ],
   "source": [
    "# Age Group by Spending Category\n",
    "df.groupBy(\"Spending_Category\", \"Age_Group\") \\\n",
    "  .agg(count(\"*\").alias(\"Count\")) \\\n",
    "  .orderBy(\"Spending_Category\", \"Age_Group\") \\\n",
    "  .show()\n",
    "\n"
   ]
  },
  {
   "cell_type": "code",
   "execution_count": 44,
   "metadata": {},
   "outputs": [
    {
     "name": "stdout",
     "output_type": "stream",
     "text": [
      "+------+---------+-----+\n",
      "| Genre|Age_Group|Count|\n",
      "+------+---------+-----+\n",
      "|Female|      30s|    9|\n",
      "|  Male|      30s|    8|\n",
      "|Female|      20s|    7|\n",
      "|  Male|      20s|    4|\n",
      "|  Male|Teenagers|    1|\n",
      "|  Male|      40s|    1|\n",
      "+------+---------+-----+\n",
      "\n"
     ]
    }
   ],
   "source": [
    "# Common Profiles of High Spenders\n",
    "df.filter(df[\"Spending Score (1-100)\"] > 80) \\\n",
    "  .groupBy(\"Genre\", \"Age_Group\") \\\n",
    "  .agg(count(\"*\").alias(\"Count\")) \\\n",
    "  .orderBy(\"Count\", ascending=False) \\\n",
    "  .show(10)"
   ]
  },
  {
   "cell_type": "code",
   "execution_count": 55,
   "metadata": {},
   "outputs": [
    {
     "data": {
      "text/plain": [
       "-0.01239804273606026"
      ]
     },
     "execution_count": 55,
     "metadata": {},
     "output_type": "execute_result"
    }
   ],
   "source": [
    "# Correlation Analysis\n",
    "df.stat.corr(\"Annual Income (k$)\", \"Spending Score (1-100)\")\n",
    "df.stat.corr(\"Age\", \"Spending Score (1-100)\")\n",
    "df.stat.corr(\"Age\", \"Annual Income (k$)\")"
   ]
  },
  {
   "cell_type": "code",
   "execution_count": 57,
   "metadata": {},
   "outputs": [
    {
     "data": {
      "text/plain": [
       "DenseMatrix(3, 3, [1.0, -0.0124, -0.3272, -0.0124, 1.0, 0.0099, -0.3272, 0.0099, 1.0], False)"
      ]
     },
     "execution_count": 57,
     "metadata": {},
     "output_type": "execute_result"
    }
   ],
   "source": [
    "# Create a feature vector\n",
    "vector_assembler = VectorAssembler(\n",
    "    inputCols=[\"Age\", \"Annual Income (k$)\", \"Spending Score (1-100)\"],\n",
    "    outputCol=\"features\"\n",
    ")\n",
    "vector_df = vector_assembler.transform(df)\n",
    "correlation_matrix = Correlation.corr(vector_df, \"features\").head()[0]\n",
    "correlation_matrix"
   ]
  },
  {
   "cell_type": "code",
   "execution_count": 58,
   "metadata": {},
   "outputs": [
    {
     "data": {
      "text/plain": [
       "array([[ 1.        , -0.01239804, -0.32722685],\n",
       "       [-0.01239804,  1.        ,  0.00990285],\n",
       "       [-0.32722685,  0.00990285,  1.        ]])"
      ]
     },
     "execution_count": 58,
     "metadata": {},
     "output_type": "execute_result"
    }
   ],
   "source": [
    "# Convert to a NumPy array\n",
    "dense_matrix = correlation_matrix.toArray()\n",
    "dense_matrix"
   ]
  },
  {
   "cell_type": "code",
   "execution_count": 59,
   "metadata": {},
   "outputs": [
    {
     "data": {
      "text/html": [
       "<div>\n",
       "<style scoped>\n",
       "    .dataframe tbody tr th:only-of-type {\n",
       "        vertical-align: middle;\n",
       "    }\n",
       "\n",
       "    .dataframe tbody tr th {\n",
       "        vertical-align: top;\n",
       "    }\n",
       "\n",
       "    .dataframe thead th {\n",
       "        text-align: right;\n",
       "    }\n",
       "</style>\n",
       "<table border=\"1\" class=\"dataframe\">\n",
       "  <thead>\n",
       "    <tr style=\"text-align: right;\">\n",
       "      <th></th>\n",
       "      <th>Age</th>\n",
       "      <th>Annual Income (k$)</th>\n",
       "      <th>Spending Score (1-100)</th>\n",
       "    </tr>\n",
       "  </thead>\n",
       "  <tbody>\n",
       "    <tr>\n",
       "      <th>Age</th>\n",
       "      <td>1.000000</td>\n",
       "      <td>-0.012398</td>\n",
       "      <td>-0.327227</td>\n",
       "    </tr>\n",
       "    <tr>\n",
       "      <th>Annual Income (k$)</th>\n",
       "      <td>-0.012398</td>\n",
       "      <td>1.000000</td>\n",
       "      <td>0.009903</td>\n",
       "    </tr>\n",
       "    <tr>\n",
       "      <th>Spending Score (1-100)</th>\n",
       "      <td>-0.327227</td>\n",
       "      <td>0.009903</td>\n",
       "      <td>1.000000</td>\n",
       "    </tr>\n",
       "  </tbody>\n",
       "</table>\n",
       "</div>"
      ],
      "text/plain": [
       "                             Age  Annual Income (k$)  Spending Score (1-100)\n",
       "Age                     1.000000           -0.012398               -0.327227\n",
       "Annual Income (k$)     -0.012398            1.000000                0.009903\n",
       "Spending Score (1-100) -0.327227            0.009903                1.000000"
      ]
     },
     "execution_count": 59,
     "metadata": {},
     "output_type": "execute_result"
    }
   ],
   "source": [
    "# Convert to a Pandas DataFrame for better visualization\n",
    "import pandas as pd\n",
    "import numpy as np\n",
    "correlation_df = pd.DataFrame(dense_matrix, columns=[\"Age\", \"Annual Income (k$)\", \"Spending Score (1-100)\"], index=[\"Age\", \"Annual Income (k$)\", \"Spending Score (1-100)\"])\n",
    "correlation_df"
   ]
  },
  {
   "cell_type": "code",
   "execution_count": 60,
   "metadata": {},
   "outputs": [
    {
     "data": {
      "image/png": "[encoded data removed]",
      "text/plain": [
       "<Figure size 800x600 with 2 Axes>"
      ]
     },
     "metadata": {},
     "output_type": "display_data"
    }
   ],
   "source": [
    "# Visualize the correlation matrix\n",
    "import seaborn as sns\n",
    "import matplotlib.pyplot as plt\n",
    "plt.figure(figsize=(8, 6))\n",
    "sns.heatmap(correlation_df, annot=True, cmap=\"coolwarm\", fmt=\".2f\")\n",
    "plt.title(\"Correlation Matrix\")\n",
    "plt.show()\n",
    "# 🛠️ Step 6: Save the DataFrame as a CSV file\n",
    "#output_path = \"/mnt/c/Users/hmdkr/DE-Projects/mall-customers/data/mall_customers_analysis.csv\"\n",
    "#df.write.csv(output_path, header=True, mode=\"overwrite\")\n",
    "#print(f\"✅ DataFrame saved to {output_path}\")"
   ]
  },
  {
   "cell_type": "code",
   "execution_count": 17,
   "metadata": {},
   "outputs": [
    {
     "name": "stdout",
     "output_type": "stream",
     "text": [
      "Collecting pandas\n",
      "  Using cached pandas-2.2.3-cp311-cp311-manylinux_2_17_x86_64.manylinux2014_x86_64.whl.metadata (89 kB)\n",
      "Collecting numpy>=1.23.2 (from pandas)\n",
      "  Using cached numpy-2.2.5-cp311-cp311-manylinux_2_17_x86_64.manylinux2014_x86_64.whl.metadata (62 kB)\n",
      "Requirement already satisfied: python-dateutil>=2.8.2 in /mnt/c/Users/hmdkr/DE-Projects/mall-customers/venv/lib/python3.11/site-packages (from pandas) (2.9.0.post0)\n",
      "Collecting pytz>=2020.1 (from pandas)\n",
      "  Using cached pytz-2025.2-py2.py3-none-any.whl.metadata (22 kB)\n",
      "Collecting tzdata>=2022.7 (from pandas)\n",
      "  Using cached tzdata-2025.2-py2.py3-none-any.whl.metadata (1.4 kB)\n",
      "Requirement already satisfied: six>=1.5 in /mnt/c/Users/hmdkr/DE-Projects/mall-customers/venv/lib/python3.11/site-packages (from python-dateutil>=2.8.2->pandas) (1.17.0)\n",
      "Using cached pandas-2.2.3-cp311-cp311-manylinux_2_17_x86_64.manylinux2014_x86_64.whl (13.1 MB)\n",
      "Using cached numpy-2.2.5-cp311-cp311-manylinux_2_17_x86_64.manylinux2014_x86_64.whl (16.4 MB)\n",
      "Using cached pytz-2025.2-py2.py3-none-any.whl (509 kB)\n",
      "Using cached tzdata-2025.2-py2.py3-none-any.whl (347 kB)\n",
      "Installing collected packages: pytz, tzdata, numpy, pandas\n",
      "Successfully installed numpy-2.2.5 pandas-2.2.3 pytz-2025.2 tzdata-2025.2\n",
      "Note: you may need to restart the kernel to use updated packages.\n"
     ]
    }
   ],
   "source": [
    "# 🛠️ 5. Optional: Convert to Pandas for plotting\n",
    "%pip install pandas\n",
    "\n",
    "pandas_df = df.toPandas()"
   ]
  },
  {
   "cell_type": "code",
   "execution_count": 19,
   "metadata": {},
   "outputs": [
    {
     "name": "stdout",
     "output_type": "stream",
     "text": [
      "Collecting matplotlib\n",
      "  Using cached matplotlib-3.10.1-cp311-cp311-manylinux_2_17_x86_64.manylinux2014_x86_64.whl.metadata (11 kB)\n",
      "Collecting contourpy>=1.0.1 (from matplotlib)\n",
      "  Using cached contourpy-1.3.2-cp311-cp311-manylinux_2_17_x86_64.manylinux2014_x86_64.whl.metadata (5.5 kB)\n",
      "Collecting cycler>=0.10 (from matplotlib)\n",
      "  Using cached cycler-0.12.1-py3-none-any.whl.metadata (3.8 kB)\n",
      "Collecting fonttools>=4.22.0 (from matplotlib)\n",
      "  Using cached fonttools-4.57.0-cp311-cp311-manylinux_2_17_x86_64.manylinux2014_x86_64.whl.metadata (102 kB)\n",
      "Collecting kiwisolver>=1.3.1 (from matplotlib)\n",
      "  Using cached kiwisolver-1.4.8-cp311-cp311-manylinux_2_17_x86_64.manylinux2014_x86_64.whl.metadata (6.2 kB)\n",
      "Requirement already satisfied: numpy>=1.23 in /mnt/c/Users/hmdkr/DE-Projects/mall-customers/venv/lib/python3.11/site-packages (from matplotlib) (2.2.5)\n",
      "Requirement already satisfied: packaging>=20.0 in /mnt/c/Users/hmdkr/DE-Projects/mall-customers/venv/lib/python3.11/site-packages (from matplotlib) (25.0)\n",
      "Collecting pillow>=8 (from matplotlib)\n",
      "  Using cached pillow-11.2.1-cp311-cp311-manylinux_2_28_x86_64.whl.metadata (8.9 kB)\n",
      "Collecting pyparsing>=2.3.1 (from matplotlib)\n",
      "  Using cached pyparsing-3.2.3-py3-none-any.whl.metadata (5.0 kB)\n",
      "Requirement already satisfied: python-dateutil>=2.7 in /mnt/c/Users/hmdkr/DE-Projects/mall-customers/venv/lib/python3.11/site-packages (from matplotlib) (2.9.0.post0)\n",
      "Requirement already satisfied: six>=1.5 in /mnt/c/Users/hmdkr/DE-Projects/mall-customers/venv/lib/python3.11/site-packages (from python-dateutil>=2.7->matplotlib) (1.17.0)\n",
      "Using cached matplotlib-3.10.1-cp311-cp311-manylinux_2_17_x86_64.manylinux2014_x86_64.whl (8.6 MB)\n",
      "Using cached contourpy-1.3.2-cp311-cp311-manylinux_2_17_x86_64.manylinux2014_x86_64.whl (326 kB)\n",
      "Using cached cycler-0.12.1-py3-none-any.whl (8.3 kB)\n",
      "Using cached fonttools-4.57.0-cp311-cp311-manylinux_2_17_x86_64.manylinux2014_x86_64.whl (4.9 MB)\n",
      "Using cached kiwisolver-1.4.8-cp311-cp311-manylinux_2_17_x86_64.manylinux2014_x86_64.whl (1.4 MB)\n",
      "Using cached pillow-11.2.1-cp311-cp311-manylinux_2_28_x86_64.whl (4.6 MB)\n",
      "Using cached pyparsing-3.2.3-py3-none-any.whl (111 kB)\n",
      "Installing collected packages: pyparsing, pillow, kiwisolver, fonttools, cycler, contourpy, matplotlib\n",
      "Successfully installed contourpy-1.3.2 cycler-0.12.1 fonttools-4.57.0 kiwisolver-1.4.8 matplotlib-3.10.1 pillow-11.2.1 pyparsing-3.2.3\n",
      "Note: you may need to restart the kernel to use updated packages.\n",
      "Collecting seaborn\n",
      "  Downloading seaborn-0.13.2-py3-none-any.whl.metadata (5.4 kB)\n",
      "Requirement already satisfied: numpy!=1.24.0,>=1.20 in /mnt/c/Users/hmdkr/DE-Projects/mall-customers/venv/lib/python3.11/site-packages (from seaborn) (2.2.5)\n",
      "Requirement already satisfied: pandas>=1.2 in /mnt/c/Users/hmdkr/DE-Projects/mall-customers/venv/lib/python3.11/site-packages (from seaborn) (2.2.3)\n",
      "Requirement already satisfied: matplotlib!=3.6.1,>=3.4 in /mnt/c/Users/hmdkr/DE-Projects/mall-customers/venv/lib/python3.11/site-packages (from seaborn) (3.10.1)\n",
      "Requirement already satisfied: contourpy>=1.0.1 in /mnt/c/Users/hmdkr/DE-Projects/mall-customers/venv/lib/python3.11/site-packages (from matplotlib!=3.6.1,>=3.4->seaborn) (1.3.2)\n",
      "Requirement already satisfied: cycler>=0.10 in /mnt/c/Users/hmdkr/DE-Projects/mall-customers/venv/lib/python3.11/site-packages (from matplotlib!=3.6.1,>=3.4->seaborn) (0.12.1)\n",
      "Requirement already satisfied: fonttools>=4.22.0 in /mnt/c/Users/hmdkr/DE-Projects/mall-customers/venv/lib/python3.11/site-packages (from matplotlib!=3.6.1,>=3.4->seaborn) (4.57.0)\n",
      "Requirement already satisfied: kiwisolver>=1.3.1 in /mnt/c/Users/hmdkr/DE-Projects/mall-customers/venv/lib/python3.11/site-packages (from matplotlib!=3.6.1,>=3.4->seaborn) (1.4.8)\n",
      "Requirement already satisfied: packaging>=20.0 in /mnt/c/Users/hmdkr/DE-Projects/mall-customers/venv/lib/python3.11/site-packages (from matplotlib!=3.6.1,>=3.4->seaborn) (25.0)\n",
      "Requirement already satisfied: pillow>=8 in /mnt/c/Users/hmdkr/DE-Projects/mall-customers/venv/lib/python3.11/site-packages (from matplotlib!=3.6.1,>=3.4->seaborn) (11.2.1)\n",
      "Requirement already satisfied: pyparsing>=2.3.1 in /mnt/c/Users/hmdkr/DE-Projects/mall-customers/venv/lib/python3.11/site-packages (from matplotlib!=3.6.1,>=3.4->seaborn) (3.2.3)\n",
      "Requirement already satisfied: python-dateutil>=2.7 in /mnt/c/Users/hmdkr/DE-Projects/mall-customers/venv/lib/python3.11/site-packages (from matplotlib!=3.6.1,>=3.4->seaborn) (2.9.0.post0)\n",
      "Requirement already satisfied: pytz>=2020.1 in /mnt/c/Users/hmdkr/DE-Projects/mall-customers/venv/lib/python3.11/site-packages (from pandas>=1.2->seaborn) (2025.2)\n",
      "Requirement already satisfied: tzdata>=2022.7 in /mnt/c/Users/hmdkr/DE-Projects/mall-customers/venv/lib/python3.11/site-packages (from pandas>=1.2->seaborn) (2025.2)\n",
      "Requirement already satisfied: six>=1.5 in /mnt/c/Users/hmdkr/DE-Projects/mall-customers/venv/lib/python3.11/site-packages (from python-dateutil>=2.7->matplotlib!=3.6.1,>=3.4->seaborn) (1.17.0)\n",
      "Downloading seaborn-0.13.2-py3-none-any.whl (294 kB)\n",
      "\u001b[2K   \u001b[90m━━━━━━━━━━━━━━━━━━━━━━━━━━━━━━━━━━━━━━━━\u001b[0m \u001b[32m294.9/294.9 kB\u001b[0m \u001b[31m4.0 MB/s\u001b[0m eta \u001b[36m0:00:00\u001b[0ma \u001b[36m0:00:01\u001b[0m\n",
      "\u001b[?25hInstalling collected packages: seaborn\n",
      "Successfully installed seaborn-0.13.2\n",
      "Note: you may need to restart the kernel to use updated packages.\n"
     ]
    },
    {
     "data": {
      "image/png": "[encoded data removed]",
      "text/plain": [
       "<Figure size 800x500 with 1 Axes>"
      ]
     },
     "metadata": {},
     "output_type": "display_data"
    }
   ],
   "source": [
    "# Install matplotlib and seaborn if not already installed\n",
    "%pip install matplotlib\n",
    "%pip install seaborn\n",
    "\n",
    "# Import necessary libraries\n",
    "import matplotlib.pyplot as plt\n",
    "import seaborn as sns\n",
    "\n",
    "# Plot the data\n",
    "plt.figure(figsize=(8,5))\n",
    "sns.barplot(data=pandas_df, x=\"Genre\", y=\"Annual Income (k$)\")\n",
    "plt.title(\"Average Annual Income by Gender\")\n",
    "plt.show()"
   ]
  },
  {
   "cell_type": "code",
   "execution_count": 62,
   "metadata": {},
   "outputs": [
    {
     "data": {
      "image/png": "[encoded data removed]",
      "text/plain": [
       "<Figure size 800x500 with 1 Axes>"
      ]
     },
     "metadata": {},
     "output_type": "display_data"
    }
   ],
   "source": [
    "# Convert PySpark DataFrame to Pandas DataFrame if not already done\n",
    "if 'pandas_df' not in locals():\n",
    "\tpandas_df = df.toPandas()\n",
    "\n",
    "# Plot the data\n",
    "plt.figure(figsize=(8,5))\n",
    "sns.barplot(data=pandas_df, x=\"Spending Score (1-100)\", y=\"Annual Income (k$)\")\n",
    "plt.title(\"Average Annual Income by Spending Score\")\n",
    "plt.show()"
   ]
  },
  {
   "cell_type": "markdown",
   "metadata": {},
   "source": [
    "## 🧠 Insights Summary\n",
    "\n",
    "- Most customers fall into the middle range of spending scores.\n",
    "- Income doesn't correlate directly with spending — some high spenders have moderate income.\n",
    "- Segment opportunities:\n",
    "  - **High Score + Low Income**: Loyal, budget-conscious\n",
    "  - **High Score + High Income**: Premium target segment\n"
   ]
  }
 ],
 "metadata": {
  "kernelspec": {
   "display_name": "venv",
   "language": "python",
   "name": "python3"
  },
  "language_info": {
   "codemirror_mode": {
    "name": "ipython",
    "version": 3
   },
   "file_extension": ".py",
   "mimetype": "text/x-python",
   "name": "python",
   "nbconvert_exporter": "python",
   "pygments_lexer": "ipython3",
   "version": "3.11.8"
  }
 },
 "nbformat": 4,
 "nbformat_minor": 2
}
