{
 "cells": [
  {
   "cell_type": "code",
   "execution_count": 2,
   "metadata": {},
   "outputs": [
    {
     "name": "stdout",
     "output_type": "stream",
     "text": [
      "Python 3.11.8\n"
     ]
    }
   ],
   "source": [
    "!python --version\n"
   ]
  },
  {
   "cell_type": "code",
   "execution_count": 4,
   "metadata": {},
   "outputs": [
    {
     "name": "stdout",
     "output_type": "stream",
     "text": [
      "Collecting pyspark\n",
      "  Using cached pyspark-3.5.5-py2.py3-none-any.whl\n",
      "Collecting py4j==0.10.9.7 (from pyspark)\n",
      "  Using cached py4j-0.10.9.7-py2.py3-none-any.whl.metadata (1.5 kB)\n",
      "Using cached py4j-0.10.9.7-py2.py3-none-any.whl (200 kB)\n",
      "Installing collected packages: py4j, pyspark\n",
      "Successfully installed py4j-0.10.9.7 pyspark-3.5.5\n",
      "Note: you may need to restart the kernel to use updated packages.\n"
     ]
    },
    {
     "name": "stderr",
     "output_type": "stream",
     "text": [
      "your 131072x1 screen size is bogus. expect trouble\n",
      "25/04/28 22:29:18 WARN Utils: Your hostname, HKCP resolves to a loopback address: 127.0.1.1; using 10.255.255.254 instead (on interface lo)\n",
      "25/04/28 22:29:18 WARN Utils: Set SPARK_LOCAL_IP if you need to bind to another address\n",
      "Setting default log level to \"WARN\".\n",
      "To adjust logging level use sc.setLogLevel(newLevel). For SparkR, use setLogLevel(newLevel).\n",
      "25/04/28 22:29:20 WARN NativeCodeLoader: Unable to load native-hadoop library for your platform... using builtin-java classes where applicable\n"
     ]
    }
   ],
   "source": [
    "# 🛠️ Step 1: Set up Spark Session\n",
    "# Install pyspark if not already installed\n",
    "%pip install pyspark\n",
    "\n",
    "from pyspark.sql import SparkSession\n",
    "spark = SparkSession.builder.appName(\"MallCustomersAnalysis\").getOrCreate()\n"
   ]
  },
  {
   "cell_type": "code",
   "execution_count": 8,
   "metadata": {},
   "outputs": [
    {
     "name": "stdout",
     "output_type": "stream",
     "text": [
      "+----------+------+---+------------------+----------------------+\n",
      "|CustomerID| Genre|Age|Annual Income (k$)|Spending Score (1-100)|\n",
      "+----------+------+---+------------------+----------------------+\n",
      "|         1|  Male| 19|                15|                    39|\n",
      "|         2|  Male| 21|                15|                    81|\n",
      "|         3|Female| 20|                16|                     6|\n",
      "|         4|Female| 23|                16|                    77|\n",
      "|         5|Female| 31|                17|                    40|\n",
      "+----------+------+---+------------------+----------------------+\n",
      "only showing top 5 rows\n",
      "\n"
     ]
    }
   ],
   "source": [
    "# Update the file path to the correct location of the dataset\n",
    "df = spark.read.csv(\"/mnt/c/Users/hmdkr/DE-Projects/mall-customers/data/Mall_Customers.csv\", header=True, inferSchema=True)\n",
    "df.show(5)\n"
   ]
  },
  {
   "cell_type": "code",
   "execution_count": 9,
   "metadata": {},
   "outputs": [],
   "source": [
    "# 📥 Step 2: Load Dataset\n",
    "# df = spark.read.csv(\"data/Mall_Customers.csv\", header=True, inferSchema=True)\n",
    "# df.printSchema()\n",
    "# df.show(5)\n"
   ]
  },
  {
   "cell_type": "code",
   "execution_count": 10,
   "metadata": {},
   "outputs": [
    {
     "name": "stdout",
     "output_type": "stream",
     "text": [
      "+----------------------+-----+\n",
      "|Spending Score (1-100)|count|\n",
      "+----------------------+-----+\n",
      "|                     1|    2|\n",
      "|                     3|    1|\n",
      "|                     4|    2|\n",
      "|                     5|    4|\n",
      "|                     6|    2|\n",
      "|                     7|    1|\n",
      "|                     8|    1|\n",
      "|                     9|    1|\n",
      "|                    10|    2|\n",
      "|                    11|    1|\n",
      "|                    12|    1|\n",
      "|                    13|    3|\n",
      "|                    14|    4|\n",
      "|                    15|    3|\n",
      "|                    16|    2|\n",
      "|                    17|    3|\n",
      "|                    18|    1|\n",
      "|                    20|    2|\n",
      "|                    22|    1|\n",
      "|                    23|    1|\n",
      "+----------------------+-----+\n",
      "only showing top 20 rows\n",
      "\n"
     ]
    }
   ],
   "source": [
    "# 📊 Step 3: Spending Score Distribution\n",
    "df.groupBy(\"Spending Score (1-100)\") \\\n",
    "  .count() \\\n",
    "  .orderBy(\"Spending Score (1-100)\") \\\n",
    "  .show(20)\n"
   ]
  },
  {
   "cell_type": "code",
   "execution_count": 11,
   "metadata": {},
   "outputs": [
    {
     "name": "stdout",
     "output_type": "stream",
     "text": [
      "+----------------------+-----------------+-----+\n",
      "|Spending Score (1-100)|       Avg Income|Count|\n",
      "+----------------------+-----------------+-----+\n",
      "|                     1|             78.0|    2|\n",
      "|                     3|             19.0|    1|\n",
      "|                     4|             31.5|    2|\n",
      "|                     5|             63.5|    4|\n",
      "|                     6|             17.0|    2|\n",
      "|                     7|             73.0|    1|\n",
      "|                     8|            113.0|    1|\n",
      "|                     9|             71.0|    1|\n",
      "|                    10|             80.5|    2|\n",
      "|                    11|             71.0|    1|\n",
      "|                    12|             77.0|    1|\n",
      "|                    13|             65.0|    3|\n",
      "|                    14|            43.25|    4|\n",
      "|                    15|68.66666666666667|    3|\n",
      "|                    16|             99.0|    2|\n",
      "|                    17|71.66666666666667|    3|\n",
      "|                    18|            137.0|    1|\n",
      "|                    20|             82.0|    2|\n",
      "|                    22|             78.0|    1|\n",
      "|                    23|            103.0|    1|\n",
      "+----------------------+-----------------+-----+\n",
      "only showing top 20 rows\n",
      "\n"
     ]
    }
   ],
   "source": [
    "# 📈 Step 4: Average Income by Spending Score\n",
    "from pyspark.sql.functions import avg, count\n",
    "\n",
    "df.groupBy(\"Spending Score (1-100)\") \\\n",
    "  .agg(avg(\"Annual Income (k$)\").alias(\"Avg Income\"), count(\"*\").alias(\"Count\")) \\\n",
    "  .orderBy(\"Spending Score (1-100)\") \\\n",
    "  .show(20)\n"
   ]
  },
  {
   "cell_type": "markdown",
   "metadata": {},
   "source": [
    "## 🧠 Insights Summary\n",
    "\n",
    "- Most customers fall into the middle range of spending scores.\n",
    "- Income doesn't correlate directly with spending — some high spenders have moderate income.\n",
    "- Segment opportunities:\n",
    "  - **High Score + Low Income**: Loyal, budget-conscious\n",
    "  - **High Score + High Income**: Premium target segment\n"
   ]
  }
 ],
 "metadata": {
  "kernelspec": {
   "display_name": "venv",
   "language": "python",
   "name": "python3"
  },
  "language_info": {
   "codemirror_mode": {
    "name": "ipython",
    "version": 3
   },
   "file_extension": ".py",
   "mimetype": "text/x-python",
   "name": "python",
   "nbconvert_exporter": "python",
   "pygments_lexer": "ipython3",
   "version": "3.11.8"
  }
 },
 "nbformat": 4,
 "nbformat_minor": 2
}
