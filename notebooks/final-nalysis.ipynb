{
 "cells": [
  {
   "cell_type": "code",
   "execution_count": 1,
   "id": "a8e69951",
   "metadata": {},
   "outputs": [
    {
     "name": "stdout",
     "output_type": "stream",
     "text": [
      "Requirement already satisfied: pyspark in /mnt/c/Users/hmdkr/DE-Projects/mall-customers/venv/lib/python3.11/site-packages (3.5.5)\n",
      "Requirement already satisfied: py4j==0.10.9.7 in /mnt/c/Users/hmdkr/DE-Projects/mall-customers/venv/lib/python3.11/site-packages (from pyspark) (0.10.9.7)\n",
      "Note: you may need to restart the kernel to use updated packages.\n"
     ]
    },
    {
     "name": "stderr",
     "output_type": "stream",
     "text": [
      "your 131072x1 screen size is bogus. expect trouble\n",
      "25/04/29 23:18:46 WARN Utils: Your hostname, HKCP resolves to a loopback address: 127.0.1.1; using 10.255.255.254 instead (on interface lo)\n",
      "25/04/29 23:18:46 WARN Utils: Set SPARK_LOCAL_IP if you need to bind to another address\n",
      "Setting default log level to \"WARN\".\n",
      "To adjust logging level use sc.setLogLevel(newLevel). For SparkR, use setLogLevel(newLevel).\n",
      "25/04/29 23:18:47 WARN NativeCodeLoader: Unable to load native-hadoop library for your platform... using builtin-java classes where applicable\n"
     ]
    },
    {
     "name": "stdout",
     "output_type": "stream",
     "text": [
      "✅ Spark Session Created\n",
      "Spark Version: 3.5.5\n"
     ]
    }
   ],
   "source": [
    "# 🛠️ Step 1: Set up Spark Session\n",
    "# Install pyspark if not already installed\n",
    "%pip install pyspark\n",
    "\n",
    "from pyspark.sql import SparkSession\n",
    "spark = SparkSession.builder.appName(\"MallCustomersAnalysis\").getOrCreate()\n",
    "\n",
    "print(\"✅ Spark Session Created\")\n",
    "print(f\"Spark Version: {spark.version}\")"
   ]
  },
  {
   "cell_type": "code",
   "execution_count": null,
   "id": "35edb844",
   "metadata": {},
   "outputs": [
    {
     "name": "stderr",
     "output_type": "stream",
     "text": [
      "                                                                                \r"
     ]
    },
    {
     "name": "stdout",
     "output_type": "stream",
     "text": [
      "✅ Dataset Loaded\n",
      "Number of Rows: 200\n",
      "Number of Columns: 5\n",
      "Columns: ['CustomerID', 'Genre', 'Age', 'Annual Income (k$)', 'Spending Score (1-100)']\n",
      "Sample Data:\n",
      "+----------+------+---+------------------+----------------------+\n",
      "|CustomerID| Genre|Age|Annual Income (k$)|Spending Score (1-100)|\n",
      "+----------+------+---+------------------+----------------------+\n",
      "|         1|  Male| 19|                15|                    39|\n",
      "|         2|  Male| 21|                15|                    81|\n",
      "|         3|Female| 20|                16|                     6|\n",
      "|         4|Female| 23|                16|                    77|\n",
      "|         5|Female| 31|                17|                    40|\n",
      "+----------+------+---+------------------+----------------------+\n",
      "only showing top 5 rows\n",
      "\n"
     ]
    }
   ],
   "source": [
    "# 🛠️ Step 2: Load the Dataset\n",
    "# Load the dataset into a DataFrame\n",
    "df = spark.read.csv(\"/mnt/c/Users/hmdkr/DE-Projects/mall-customers/data/Mall_Customers.csv\", header=True, inferSchema=True)\n",
    "print(\"✅ Dataset Loaded\")\n",
    "print(f\"Number of Rows: {df.count()}\")\n",
    "print(f\"Number of Columns: {len(df.columns)}\")\n",
    "print(f\"Columns: {df.columns}\")\n",
    "print(\"Sample Data:\")\n",
    "df.show(5) \n",
    "\n",
    "\n",
    "\n"
   ]
  },
  {
   "cell_type": "code",
   "execution_count": 17,
   "id": "d9cec8ae",
   "metadata": {},
   "outputs": [
    {
     "name": "stdout",
     "output_type": "stream",
     "text": [
      "✅ Summary Statistics:\n",
      "+-------+------------------+------+-----------------+------------------+----------------------+\n",
      "|summary|        CustomerID| Genre|              Age|Annual Income (k$)|Spending Score (1-100)|\n",
      "+-------+------------------+------+-----------------+------------------+----------------------+\n",
      "|  count|               200|   200|              200|               200|                   200|\n",
      "|   mean|             100.5|  NULL|            38.85|             60.56|                  50.2|\n",
      "| stddev|57.879184513951124|  NULL|13.96900733155888| 26.26472116527124|    25.823521668370173|\n",
      "|    min|                 1|Female|               18|                15|                     1|\n",
      "|    max|               200|  Male|               70|               137|                    99|\n",
      "+-------+------------------+------+-----------------+------------------+----------------------+\n",
      "\n",
      "✅ Data Types:\n",
      "root\n",
      " |-- CustomerID: integer (nullable = true)\n",
      " |-- Genre: string (nullable = true)\n",
      " |-- Age: integer (nullable = true)\n",
      " |-- Annual Income (k$): integer (nullable = true)\n",
      " |-- Spending Score (1-100): integer (nullable = true)\n",
      "\n",
      "✅ Missing Values Checked\n",
      "+----------+-----+---+------------------+----------------------+\n",
      "|CustomerID|Genre|Age|Annual Income (k$)|Spending Score (1-100)|\n",
      "+----------+-----+---+------------------+----------------------+\n",
      "|         0|    0|  0|                 0|                     0|\n",
      "+----------+-----+---+------------------+----------------------+\n",
      "\n"
     ]
    }
   ],
   "source": [
    "# 🛠️ Step 3: Data Preprocessing\n",
    "print(\"✅ Summary Statistics:\")\n",
    "df.describe().show()\n",
    "print(\"✅ Data Types:\") \n",
    "# Print the schema of the DataFrame to see data types\n",
    "# This will show the data types of each column in the DataFrame\n",
    "df.printSchema()\n",
    "# Check for missing values\n",
    "from pyspark.sql.functions import col, sum\n",
    "# Check for missing values in each column\n",
    "# This will create a new DataFrame with the count of missing values for each column\n",
    "missing_values = df.select([sum(col(c).isNull().cast(\"int\")).alias(c) for c in df.columns])\n",
    "print(\"✅ Missing Values Checked\")\n",
    "missing_values.show()"
   ]
  },
  {
   "cell_type": "code",
   "execution_count": null,
   "id": "791c2943",
   "metadata": {},
   "outputs": [
    {
     "name": "stdout",
     "output_type": "stream",
     "text": [
      "+----------------------+-----+\n",
      "|Spending Score (1-100)|count|\n",
      "+----------------------+-----+\n",
      "|                     1|    2|\n",
      "|                     3|    1|\n",
      "|                     4|    2|\n",
      "|                     5|    4|\n",
      "|                     6|    2|\n",
      "|                     7|    1|\n",
      "|                     8|    1|\n",
      "|                     9|    1|\n",
      "|                    10|    2|\n",
      "|                    11|    1|\n",
      "|                    12|    1|\n",
      "|                    13|    3|\n",
      "|                    14|    4|\n",
      "|                    15|    3|\n",
      "|                    16|    2|\n",
      "|                    17|    3|\n",
      "|                    18|    1|\n",
      "|                    20|    2|\n",
      "|                    22|    1|\n",
      "|                    23|    1|\n",
      "+----------------------+-----+\n",
      "only showing top 20 rows\n",
      "\n"
     ]
    }
   ],
   "source": [
    "# 📊 Step 4: Analysis \n",
    "\n",
    "# 4.1 Spending Score Distribution\n",
    "df.groupBy(\"Spending Score (1-100)\") \\\n",
    "  .count() \\\n",
    "  .orderBy(\"Spending Score (1-100)\") \\\n",
    "  .show(20)"
   ]
  },
  {
   "cell_type": "code",
   "execution_count": 19,
   "id": "71d9184b",
   "metadata": {},
   "outputs": [
    {
     "name": "stdout",
     "output_type": "stream",
     "text": [
      "+------+---------------------------+\n",
      "| Genre|avg(Spending Score (1-100))|\n",
      "+------+---------------------------+\n",
      "|Female|         51.526785714285715|\n",
      "|  Male|          48.51136363636363|\n",
      "+------+---------------------------+\n",
      "\n"
     ]
    }
   ],
   "source": [
    "# 4.2 Average Spending Score by Gender \n",
    "df.groupBy(\"Genre\") \\\n",
    "  .agg({\"Spending Score (1-100)\": \"avg\"}) \\\n",
    "  .show()\n"
   ]
  },
  {
   "cell_type": "code",
   "execution_count": 20,
   "id": "f7fa2c0b",
   "metadata": {},
   "outputs": [
    {
     "name": "stdout",
     "output_type": "stream",
     "text": [
      "+---------+------------------+-----+\n",
      "|Age_Group|Avg Spending Score|Count|\n",
      "+---------+------------------+-----+\n",
      "|      20s| 61.95348837209303|   43|\n",
      "|      30s| 61.09836065573771|   61|\n",
      "|      40s| 34.94871794871795|   39|\n",
      "|      50+|              38.4|   45|\n",
      "|Teenagers|              46.5|   12|\n",
      "+---------+------------------+-----+\n",
      "\n"
     ]
    }
   ],
   "source": [
    "# 📈 4.3: Average Income by Spending Score\n",
    "from pyspark.sql.functions import avg, count, when\n",
    "df = df.withColumn(\n",
    "    \"Age_Group\",\n",
    "    when(df.Age < 20, \"Teenagers\")\n",
    "    .when((df.Age >= 20) & (df.Age < 30), \"20s\")\n",
    "    .when((df.Age >= 30) & (df.Age < 40), \"30s\")\n",
    "    .when((df.Age >= 40) & (df.Age < 50), \"40s\")\n",
    "    .otherwise(\"50+\")  \n",
    ")\n",
    "df.groupBy(\"Age_Group\") \\\n",
    "  .agg(avg(\"Spending Score (1-100)\").alias(\"Avg Spending Score\"), count(\"*\").alias(\"Count\")) \\\n",
    "  .orderBy(\"Age_Group\") \\\n",
    "  .show()"
   ]
  },
  {
   "cell_type": "code",
   "execution_count": 21,
   "id": "80eac7e4",
   "metadata": {},
   "outputs": [
    {
     "name": "stdout",
     "output_type": "stream",
     "text": [
      "+----------+------+---+------------------+----------------------+---------+\n",
      "|CustomerID| Genre|Age|Annual Income (k$)|Spending Score (1-100)|Age_Group|\n",
      "+----------+------+---+------------------+----------------------+---------+\n",
      "|        12|Female| 35|                19|                    99|      30s|\n",
      "|        20|Female| 35|                23|                    98|      30s|\n",
      "|       146|  Male| 28|                77|                    97|      20s|\n",
      "|       186|  Male| 30|                99|                    97|      30s|\n",
      "|       128|  Male| 40|                71|                    95|      40s|\n",
      "+----------+------+---+------------------+----------------------+---------+\n",
      "only showing top 5 rows\n",
      "\n",
      "+----------+-----+---+------------------+----------------------+---------+\n",
      "|CustomerID|Genre|Age|Annual Income (k$)|Spending Score (1-100)|Age_Group|\n",
      "+----------+-----+---+------------------+----------------------+---------+\n",
      "|       157| Male| 37|                78|                     1|      30s|\n",
      "|       159| Male| 34|                78|                     1|      30s|\n",
      "|         9| Male| 64|                19|                     3|      50+|\n",
      "|        31| Male| 60|                30|                     4|      50+|\n",
      "|        33| Male| 53|                33|                     4|      50+|\n",
      "+----------+-----+---+------------------+----------------------+---------+\n",
      "only showing top 5 rows\n",
      "\n",
      "+----------+------+---+------------------+----------------------+---------+\n",
      "|CustomerID| Genre|Age|Annual Income (k$)|Spending Score (1-100)|Age_Group|\n",
      "+----------+------+---+------------------+----------------------+---------+\n",
      "|       199|  Male| 32|               137|                    18|      30s|\n",
      "|       200|  Male| 30|               137|                    83|      30s|\n",
      "|       197|Female| 45|               126|                    28|      40s|\n",
      "|       198|  Male| 32|               126|                    74|      30s|\n",
      "|       196|Female| 35|               120|                    79|      30s|\n",
      "+----------+------+---+------------------+----------------------+---------+\n",
      "only showing top 5 rows\n",
      "\n",
      "+----------+------+---+------------------+----------------------+---------+\n",
      "|CustomerID| Genre|Age|Annual Income (k$)|Spending Score (1-100)|Age_Group|\n",
      "+----------+------+---+------------------+----------------------+---------+\n",
      "|         1|  Male| 19|                15|                    39|Teenagers|\n",
      "|         2|  Male| 21|                15|                    81|      20s|\n",
      "|         3|Female| 20|                16|                     6|      20s|\n",
      "|         4|Female| 23|                16|                    77|      20s|\n",
      "|         5|Female| 31|                17|                    40|      30s|\n",
      "+----------+------+---+------------------+----------------------+---------+\n",
      "only showing top 5 rows\n",
      "\n"
     ]
    }
   ],
   "source": [
    "# 4.4 High-Spending Customers \n",
    "df.orderBy(df[\"Spending Score (1-100)\"].desc()).show(5)\n",
    "# 4.5 Low-Spending Customers\n",
    "df.orderBy(df[\"Spending Score (1-100)\"].asc()).show(5)\n",
    "# 4.6 High-Income Customers\n",
    "df.orderBy(df[\"Annual Income (k$)\"].desc()).show(5)\n",
    "# 4.7 Low-Income Customers\n",
    "df.orderBy(df[\"Annual Income (k$)\"].asc()).show(5)\n"
   ]
  },
  {
   "cell_type": "code",
   "execution_count": null,
   "id": "c32ecacc",
   "metadata": {},
   "outputs": [
    {
     "name": "stdout",
     "output_type": "stream",
     "text": [
      "+-----------------+-----------------+-----+\n",
      "|Spending_Category|Avg Annual Income|Count|\n",
      "+-----------------+-----------------+-----+\n",
      "|             High|             56.5|   72|\n",
      "|              Low|65.17647058823529|   34|\n",
      "|           Medium|          58.6875|   64|\n",
      "|        Very High|69.06666666666666|   30|\n",
      "+-----------------+-----------------+-----+\n",
      "\n"
     ]
    }
   ],
   "source": [
    "# 4.8 Spending Score Categories \n",
    "df = df.withColumn(\n",
    "    \"Spending_Category\",\n",
    "    when(df[\"Spending Score (1-100)\"] < 20, \"Low\")\n",
    "    .when((df[\"Spending Score (1-100)\"] >= 20) & (df[\"Spending Score (1-100)\"] < 50), \"Medium\")\n",
    "    .when((df[\"Spending Score (1-100)\"] >= 50) & (df[\"Spending Score (1-100)\"] < 80), \"High\")\n",
    "    .otherwise(\"Very High\")  \n",
    ")\n",
    "df.groupBy(\"Spending_Category\") \\\n",
    "  .agg(avg(\"Annual Income (k$)\").alias(\"Avg Annual Income\"), count(\"*\").alias(\"Count\")) \\\n",
    "  .orderBy(\"Spending_Category\") \\\n",
    "  .show()"
   ]
  },
  {
   "cell_type": "code",
   "execution_count": null,
   "id": "2a62725c",
   "metadata": {},
   "outputs": [
    {
     "name": "stdout",
     "output_type": "stream",
     "text": [
      "+----------------------+-----------------+-----+\n",
      "|Spending Score (1-100)|       Avg Income|Count|\n",
      "+----------------------+-----------------+-----+\n",
      "|                     1|             78.0|    2|\n",
      "|                     3|             19.0|    1|\n",
      "|                     4|             31.5|    2|\n",
      "|                     5|             63.5|    4|\n",
      "|                     6|             17.0|    2|\n",
      "|                     7|             73.0|    1|\n",
      "|                     8|            113.0|    1|\n",
      "|                     9|             71.0|    1|\n",
      "|                    10|             80.5|    2|\n",
      "|                    11|             71.0|    1|\n",
      "|                    12|             77.0|    1|\n",
      "|                    13|             65.0|    3|\n",
      "|                    14|            43.25|    4|\n",
      "|                    15|68.66666666666667|    3|\n",
      "|                    16|             99.0|    2|\n",
      "|                    17|71.66666666666667|    3|\n",
      "|                    18|            137.0|    1|\n",
      "|                    20|             82.0|    2|\n",
      "|                    22|             78.0|    1|\n",
      "|                    23|            103.0|    1|\n",
      "+----------------------+-----------------+-----+\n",
      "only showing top 20 rows\n",
      "\n"
     ]
    }
   ],
   "source": [
    "# 4.9: Average Income by Spending Score\n",
    "df.groupBy(\"Spending Score (1-100)\") \\\n",
    "  .agg(avg(\"Annual Income (k$)\").alias(\"Avg Income\"), count(\"*\").alias(\"Count\")) \\\n",
    "  .orderBy(\"Spending Score (1-100)\") \\\n",
    "  .show(20)"
   ]
  },
  {
   "cell_type": "code",
   "execution_count": 24,
   "id": "4511b3b8",
   "metadata": {},
   "outputs": [
    {
     "name": "stdout",
     "output_type": "stream",
     "text": [
      "+-----------------+------+-----+\n",
      "|Spending_Category| Genre|Count|\n",
      "+-----------------+------+-----+\n",
      "|             High|Female|   42|\n",
      "|             High|  Male|   30|\n",
      "|              Low|Female|   13|\n",
      "|              Low|  Male|   21|\n",
      "|           Medium|Female|   41|\n",
      "|           Medium|  Male|   23|\n",
      "|        Very High|Female|   16|\n",
      "|        Very High|  Male|   14|\n",
      "+-----------------+------+-----+\n",
      "\n"
     ]
    }
   ],
   "source": [
    "# 4.10 Gender Distribution in Spending Categories\n",
    "df.groupBy(\"Spending_Category\", \"Genre\") \\\n",
    "  .agg(count(\"*\").alias(\"Count\")) \\\n",
    "  .orderBy(\"Spending_Category\", \"Genre\") \\\n",
    "  .show()"
   ]
  },
  {
   "cell_type": "code",
   "execution_count": 25,
   "id": "570a068f",
   "metadata": {},
   "outputs": [
    {
     "name": "stdout",
     "output_type": "stream",
     "text": [
      "+-----------------+-----------------+-----+\n",
      "|Spending_Category|Avg Annual Income|Count|\n",
      "+-----------------+-----------------+-----+\n",
      "|             High|             56.5|   72|\n",
      "|              Low|65.17647058823529|   34|\n",
      "|           Medium|          58.6875|   64|\n",
      "|        Very High|69.06666666666666|   30|\n",
      "+-----------------+-----------------+-----+\n",
      "\n"
     ]
    }
   ],
   "source": [
    "# 4.11 Annual Income by Spending Category\n",
    "df.groupBy(\"Spending_Category\") \\\n",
    "  .agg(avg(\"Annual Income (k$)\").alias(\"Avg Annual Income\"), count(\"*\").alias(\"Count\")) \\\n",
    "  .orderBy(\"Spending_Category\") \\\n",
    "  .show()"
   ]
  },
  {
   "cell_type": "code",
   "execution_count": 26,
   "id": "df2bd494",
   "metadata": {},
   "outputs": [
    {
     "name": "stdout",
     "output_type": "stream",
     "text": [
      "+-----------------+---------+-----+\n",
      "|Spending_Category|Age_Group|Count|\n",
      "+-----------------+---------+-----+\n",
      "|             High|      20s|   21|\n",
      "|             High|      30s|   24|\n",
      "|             High|      40s|    6|\n",
      "|             High|      50+|   16|\n",
      "|             High|Teenagers|    5|\n",
      "|              Low|      20s|    3|\n",
      "|              Low|      30s|    7|\n",
      "|              Low|      40s|   11|\n",
      "|              Low|      50+|   11|\n",
      "|              Low|Teenagers|    2|\n",
      "|           Medium|      20s|    8|\n",
      "|           Medium|      30s|   13|\n",
      "|           Medium|      40s|   21|\n",
      "|           Medium|      50+|   18|\n",
      "|           Medium|Teenagers|    4|\n",
      "|        Very High|      20s|   11|\n",
      "|        Very High|      30s|   17|\n",
      "|        Very High|      40s|    1|\n",
      "|        Very High|Teenagers|    1|\n",
      "+-----------------+---------+-----+\n",
      "\n"
     ]
    }
   ],
   "source": [
    "# 4.12 Age Group by Spending Category\n",
    "df.groupBy(\"Spending_Category\", \"Age_Group\") \\\n",
    "  .agg(count(\"*\").alias(\"Count\")) \\\n",
    "  .orderBy(\"Spending_Category\", \"Age_Group\") \\\n",
    "  .show()"
   ]
  },
  {
   "cell_type": "code",
   "execution_count": 27,
   "id": "b65540ce",
   "metadata": {},
   "outputs": [
    {
     "name": "stdout",
     "output_type": "stream",
     "text": [
      "+------+---------+-----+\n",
      "| Genre|Age_Group|Count|\n",
      "+------+---------+-----+\n",
      "|Female|      30s|    9|\n",
      "|  Male|      30s|    8|\n",
      "|Female|      20s|    7|\n",
      "|  Male|      20s|    4|\n",
      "|  Male|Teenagers|    1|\n",
      "|  Male|      40s|    1|\n",
      "+------+---------+-----+\n",
      "\n"
     ]
    }
   ],
   "source": [
    "# 4.13 Common Profiles of High Spenders\n",
    "df.filter(df[\"Spending Score (1-100)\"] > 80) \\\n",
    "  .groupBy(\"Genre\", \"Age_Group\") \\\n",
    "  .agg(count(\"*\").alias(\"Count\")) \\\n",
    "  .orderBy(\"Count\", ascending=False) \\\n",
    "  .show(10)"
   ]
  },
  {
   "cell_type": "code",
   "execution_count": 28,
   "id": "37517bba",
   "metadata": {},
   "outputs": [
    {
     "data": {
      "text/plain": [
       "-0.01239804273606026"
      ]
     },
     "execution_count": 28,
     "metadata": {},
     "output_type": "execute_result"
    }
   ],
   "source": [
    "# 4.14 Correlation Analysis\n",
    "df.stat.corr(\"Annual Income (k$)\", \"Spending Score (1-100)\")\n",
    "df.stat.corr(\"Age\", \"Spending Score (1-100)\")\n",
    "df.stat.corr(\"Age\", \"Annual Income (k$)\")"
   ]
  },
  {
   "cell_type": "markdown",
   "id": "ad00c429",
   "metadata": {},
   "source": [
    "## ✅ Final Conclusion\n",
    "\n",
    "This analysis of the Mall Customers dataset revealed distinct spending behavior patterns across different income groups and ages. While income alone does not fully explain spending behavior, certain segments — particularly those with high spending scores and moderate-to-high income — show strong potential for targeted marketing. \n",
    "\n",
    "The use of PySpark enabled scalable and efficient processing, and the modular project structure supports future extensions, including clustering and predictive modeling. This project demonstrates foundational data engineering and analysis skills suitable for real-world customer segmentation problems.\n"
   ]
  }
 ],
 "metadata": {
  "kernelspec": {
   "display_name": "venv",
   "language": "python",
   "name": "python3"
  },
  "language_info": {
   "codemirror_mode": {
    "name": "ipython",
    "version": 3
   },
   "file_extension": ".py",
   "mimetype": "text/x-python",
   "name": "python",
   "nbconvert_exporter": "python",
   "pygments_lexer": "ipython3",
   "version": "3.11.8"
  }
 },
 "nbformat": 4,
 "nbformat_minor": 5
}
